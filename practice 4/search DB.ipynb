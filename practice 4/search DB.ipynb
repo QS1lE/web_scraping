{
 "cells": [
  {
   "cell_type": "markdown",
   "id": "38938b6d",
   "metadata": {},
   "source": [
    "### Задание:\n",
    "1. У вас есть две базы данных собранные с выбранного сайта (реляционная и МongoDB) . Нужно выбрать какой-то числовой показатель (например, цена или рейтинг) и в обеих базах вывести на экран только те записи, для которых выбранный показатель больше (или меньше) какого-то определенного значения (например, цена товара больше 500 рублей). Сравнить удобство в обеих базах.\n",
    "2. Написать функцию, которая производит поиск и выводит   эти записи на экран в MongoDB"
   ]
  },
  {
   "cell_type": "code",
   "execution_count": 4,
   "id": "0c3b7acf",
   "metadata": {},
   "outputs": [],
   "source": [
    "import pymongo\n",
    "from pymongo import MongoClient\n",
    "from pymongo.errors import ConnectionFailure, DuplicateKeyError"
   ]
  },
  {
   "cell_type": "code",
   "execution_count": 6,
   "id": "6e6eb870",
   "metadata": {},
   "outputs": [
    {
     "name": "stdout",
     "output_type": "stream",
     "text": [
      "{'_id': ObjectId('68ff0e04cad0969ace3d48fb'), 'title': 'С\\xa0царём в\\xa0голове. Фэнтези застряло в\\xa0развитии или это только так кажется?', 'author': 'RoyalCheese', 'rating': 7, 'comments': 24, 'content_type': 'Блог', 'date': 'Вчера', 'scraped_at': datetime.datetime(2025, 10, 27, 11, 15, 32, 543000), 'data_key': 'a083746baad0f3d8a324964456d34b0b'}\n",
      "{'_id': ObjectId('68ff0e04cad0969ace3d48fd'), 'title': 'И\\xa0мертвые с\\xa0косами стоят: как отмечают хэллоуин в\\xa0видеоиграх', 'author': 'nickolaeus', 'rating': 22, 'comments': 27, 'content_type': 'Общеигровое', 'date': '25 октября', 'scraped_at': datetime.datetime(2025, 10, 27, 11, 15, 32, 543000), 'data_key': '82ea930f52cc3e97695f0e98aa1c3767'}\n",
      "{'_id': ObjectId('68ff0e04cad0969ace3d4903'), 'title': 'Как спидраннерство\\xa0— стало моей любимой деятельностью?', 'author': 'ItzFallenFly', 'rating': 5, 'comments': 6, 'content_type': 'Блог', 'date': '25 октября', 'scraped_at': datetime.datetime(2025, 10, 27, 11, 15, 32, 543000), 'data_key': 'a5b491e923ff5b6f47bd270b6608c480'}\n",
      "{'_id': ObjectId('68ff0e04cad0969ace3d4904'), 'title': 'Почему Dispatch такая крутая игра, кто такие Critical Role и\\xa0причём здесь Во\\xa0все тяжкие?', 'author': 'MikeziXD', 'rating': 36, 'comments': 24, 'content_type': 'Блог', 'date': '24 октября', 'scraped_at': datetime.datetime(2025, 10, 27, 11, 15, 32, 543000), 'data_key': '8a5c013de055e7d434234b1ec7cff24e'}\n",
      "{'_id': ObjectId('68ff0e04cad0969ace3d4905'), 'title': 'Гениальные дизайны Hades 2\\xa0— каноничная повестка Древней Греции', 'author': 'DWWR', 'rating': 34, 'comments': 19, 'content_type': 'Блог', 'date': '24 октября', 'scraped_at': datetime.datetime(2025, 10, 27, 11, 15, 32, 543000), 'data_key': '86fe668c368f32d74b5f4f29d36be955'}\n",
      "{'_id': ObjectId('68ff0e04cad0969ace3d4906'), 'title': 'Бектрекинг\\xa0— проблема или показалось?', 'author': 'sYsTem1337', 'rating': 13, 'comments': 7, 'content_type': 'Общеигровое', 'date': '23 октября', 'scraped_at': datetime.datetime(2025, 10, 27, 11, 15, 32, 543000), 'data_key': '903caae4d3244780bfd89587ec39ec02'}\n",
      "{'_id': ObjectId('68ff0e04cad0969ace3d4907'), 'title': 'Как гейм-дизайнеру и\\xa0программисту вместе построить то, что невозможно в\\xa0одиночку?', 'author': 'NickKeepKind', 'rating': 14, 'comments': 12, 'content_type': 'Блог', 'date': '23 октября', 'scraped_at': datetime.datetime(2025, 10, 27, 11, 15, 32, 543000), 'data_key': 'bcd185401a369c7ce90799d4d5102599'}\n"
     ]
    }
   ],
   "source": [
    "client = MongoClient('mongodb://localhost:27017/')\n",
    "db = client['game_blog'] \n",
    "collection = db['game_blog'] \n",
    "    \n",
    "results = collection.find({\n",
    "    'rating': {'$gte': 5},\n",
    "    'comments': {'$gte': 5}\n",
    "})\n",
    "    \n",
    "documents = list(results)\n",
    "    \n",
    "for doc in documents:\n",
    "    print(doc)\n",
    "        "
   ]
  }
 ],
 "metadata": {
  "kernelspec": {
   "display_name": "Python 3",
   "language": "python",
   "name": "python3"
  },
  "language_info": {
   "codemirror_mode": {
    "name": "ipython",
    "version": 3
   },
   "file_extension": ".py",
   "mimetype": "text/x-python",
   "name": "python",
   "nbconvert_exporter": "python",
   "pygments_lexer": "ipython3",
   "version": "3.10.11"
  }
 },
 "nbformat": 4,
 "nbformat_minor": 5
}
